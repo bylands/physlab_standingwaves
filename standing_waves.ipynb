{
 "cells": [
  {
   "attachments": {},
   "cell_type": "markdown",
   "metadata": {},
   "source": [
    "# Mathematical Pendulum"
   ]
  },
  {
   "attachments": {},
   "cell_type": "markdown",
   "metadata": {},
   "source": [
    "### Import libraries"
   ]
  },
  {
   "cell_type": "code",
   "execution_count": null,
   "metadata": {},
   "outputs": [],
   "source": [
    "import numpy as np\n",
    "import matplotlib.pyplot as plt\n",
    "from scipy.optimize import curve_fit"
   ]
  },
  {
   "attachments": {},
   "cell_type": "markdown",
   "metadata": {},
   "source": [
    "### Data"
   ]
  },
  {
   "cell_type": "code",
   "execution_count": null,
   "metadata": {},
   "outputs": [],
   "source": [
    "# frequency and period\n",
    "freq = np.array([1490, 1208, 1063, 919, 780, 357, 640, 499])\n",
    "period = 1/freq\n",
    "\n",
    "# wavelength\n",
    "la = np.array([260, 300, 340, 380, 430, 970, 550, 710]) / 1000"
   ]
  },
  {
   "attachments": {},
   "cell_type": "markdown",
   "metadata": {},
   "source": [
    "### Define Plots"
   ]
  },
  {
   "cell_type": "code",
   "execution_count": null,
   "metadata": {},
   "outputs": [],
   "source": [
    "def plot_error(x_data, y_data, x_error, y_error, x_label='', y_label='', title='', label=''):\n",
    "    plt.style.use('seaborn-v0_8-whitegrid')\n",
    "    # plt.figure(figsize=(10,5), dpi=300) # for print\n",
    "    plt.figure(figsize=(8,5)) # for screen\n",
    "    plt.title(title)\n",
    "    plt.xlabel(x_label)\n",
    "    plt.ylabel(y_label)\n",
    "\n",
    "    plt.errorbar(x_data, y_data, yerr=y_error, xerr=x_error, fmt='.', ecolor='black', capsize=2, label=label)\n",
    "    return plt\n",
    "\n",
    "def plot_data(x_data, y_data, x_label='', y_label='', title='', label=''):\n",
    "    return plot_error(x_data, y_data, x_error=0, y_error=0, x_label=x_label, y_label=y_label, title=title, label=label)"
   ]
  },
  {
   "attachments": {},
   "cell_type": "markdown",
   "metadata": {},
   "source": [
    "### Plot Data"
   ]
  },
  {
   "cell_type": "code",
   "execution_count": null,
   "metadata": {},
   "outputs": [],
   "source": [
    "x_label = 'Period (ms)'\n",
    "y_label = 'Wavelength (m)'\n",
    "title = 'Wavelength vs Period for Cylindrical Tube'\n",
    "\n",
    "graph_TL = plot_data(period*1000, la, x_label=x_label, y_label=y_label, title=title)\n",
    "graph_TL.show()"
   ]
  },
  {
   "attachments": {},
   "cell_type": "markdown",
   "metadata": {},
   "source": [
    "### Errors"
   ]
  },
  {
   "cell_type": "code",
   "execution_count": null,
   "metadata": {},
   "outputs": [],
   "source": [
    "# frequency error Hz\n",
    "df = 2\n",
    "\n",
    "# error for period\n",
    "dT = df/freq * period\n",
    "\n",
    "# length error in m\n",
    "dl = 0.01"
   ]
  },
  {
   "attachments": {},
   "cell_type": "markdown",
   "metadata": {},
   "source": [
    "### Plot graph with error bars"
   ]
  },
  {
   "cell_type": "code",
   "execution_count": null,
   "metadata": {},
   "outputs": [],
   "source": [
    "graph_TL = plot_error(period*1000, la, dT*1000, dl, x_label=x_label, y_label=y_label, title=title)\n",
    "graph_TL.show()"
   ]
  },
  {
   "attachments": {},
   "cell_type": "markdown",
   "metadata": {},
   "source": [
    "### Define Fit Function"
   ]
  },
  {
   "cell_type": "code",
   "execution_count": null,
   "metadata": {},
   "outputs": [],
   "source": [
    "def f(x, a):\n",
    "    return a * x"
   ]
  },
  {
   "attachments": {},
   "cell_type": "markdown",
   "metadata": {},
   "source": [
    "### Calculate Fit Parameters and Plot Best Fit"
   ]
  },
  {
   "cell_type": "code",
   "execution_count": null,
   "metadata": {},
   "outputs": [],
   "source": [
    "a_optimal, cov = curve_fit(f, period, la)\n",
    "\n",
    "x = np.linspace(min(period)*1000, max(period)*1000, 1000)\n",
    "y = f(x/1000, a_optimal)\n",
    "\n",
    "graph_TL = plot_error(period*1000, la, dT, dl, x_label=x_label, y_label=y_label, title=title, label='data')\n",
    "graph_TL.plot(x, y, label='fit_function')\n",
    "graph_TL.legend()\n",
    "graph_TL.show()\n"
   ]
  },
  {
   "attachments": {},
   "cell_type": "markdown",
   "metadata": {},
   "source": [
    "### Calculate Residuals and Show Residual Plot"
   ]
  },
  {
   "cell_type": "code",
   "execution_count": null,
   "metadata": {},
   "outputs": [],
   "source": [
    "title = 'Residual Plot'\n",
    "x_label = '#'\n",
    "y_label = 'Residuals (cm)'\n",
    "\n",
    "res = (la - f(period, a_optimal)) * 100\n",
    "\n",
    "res_plot = plot_error(range(1, len(period)+1), res, 0, dl*100, x_label=x_label, y_label=y_label, title=title)\n",
    "res_plot.show()\n"
   ]
  },
  {
   "attachments": {},
   "cell_type": "markdown",
   "metadata": {},
   "source": [
    "### Calculate Speed of Sound"
   ]
  },
  {
   "attachments": {},
   "cell_type": "markdown",
   "metadata": {},
   "source": [
    "#### from data points"
   ]
  },
  {
   "cell_type": "code",
   "execution_count": null,
   "metadata": {},
   "outputs": [],
   "source": [
    "v = la * freq\n",
    "v_mean = v.mean()\n",
    "N = len(v)\n",
    "\n",
    "vmax = (la+dl) * (freq+df)\n",
    "dv = (vmax - v)\n",
    "dv_mean = dv.mean()\n",
    "\n",
    "\n",
    "print(f'v = ({v_mean:.5f} ± {dv_mean:.5f}) m/s = ({v_mean:.0f} ± {dv_mean:.0f}) m/s')\n",
    "\n",
    "title = 'Speed of Sound'\n",
    "y_label = 'v (m/s)'\n",
    "v_plot = plot_error(range(1, N+1), v, 0, dv, x_label=x_label, y_label=y_label, title=title)\n",
    "\n",
    "plt.plot(range(1, N+1), [v_mean]*N)\n",
    "plt.show()"
   ]
  },
  {
   "attachments": {},
   "cell_type": "markdown",
   "metadata": {},
   "source": [
    "#### from fit parameter"
   ]
  },
  {
   "cell_type": "code",
   "execution_count": null,
   "metadata": {},
   "outputs": [],
   "source": [
    "v_fit = (a_optimal)[0]\n",
    "\n",
    "# simulate error for g\n",
    "\n",
    "N = 1000 # number of simulation runs\n",
    "\n",
    "a_min = a_optimal\n",
    "\n",
    "for i in range(N):\n",
    "    period_rnd = period - dT + 2 * np.random.rand(1) * dT\n",
    "    la_rnd = la - dl + 2 * np.random.rand(1) * dl\n",
    "\n",
    "    a_rnd, cov_rnd = curve_fit(f, period_rnd, la_rnd)\n",
    "    a_min = min(a_rnd, a_min)\n",
    "\n",
    "v_min = a_min[0]\n",
    "\n",
    "dv = (v_fit - v_min)\n",
    "\n",
    "print(f'v = ({v_fit:.5f} ± {dv:.5f}) m/s = ({v_fit:.0f} ± {dv:.0f}) m/s')\n"
   ]
  }
 ],
 "metadata": {
  "language_info": {
   "name": "python",
   "pygments_lexer": "ipython3"
  }
 },
 "nbformat": 4,
 "nbformat_minor": 2
}
